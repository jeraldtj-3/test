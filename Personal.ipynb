{
 "cells": [
  {
   "cell_type": "code",
   "execution_count": 2,
   "id": "4a25de16",
   "metadata": {},
   "outputs": [
    {
     "ename": "ModuleNotFoundError",
     "evalue": "No module named 'world'",
     "output_type": "error",
     "traceback": [
      "\u001b[1;31m---------------------------------------------------------------------------\u001b[0m",
      "\u001b[1;31mModuleNotFoundError\u001b[0m                       Traceback (most recent call last)",
      "\u001b[1;32m<ipython-input-2-7d2208e450ed>\u001b[0m in \u001b[0;36m<module>\u001b[1;34m\u001b[0m\n\u001b[1;32m----> 1\u001b[1;33m \u001b[1;32mfrom\u001b[0m \u001b[0mworld\u001b[0m \u001b[1;32mimport\u001b[0m \u001b[0mme\u001b[0m\u001b[1;33m,\u001b[0m \u001b[0myou\u001b[0m\u001b[1;33m\u001b[0m\u001b[1;33m\u001b[0m\u001b[0m\n\u001b[0m\u001b[0;32m      2\u001b[0m \u001b[1;32mfrom\u001b[0m \u001b[0mmy\u001b[0m\u001b[1;33m.\u001b[0m\u001b[0mconsciousness\u001b[0m \u001b[1;32mimport\u001b[0m \u001b[0mI\u001b[0m\u001b[1;33m,\u001b[0m \u001b[0myour\u001b[0m \u001b[1;31m# we need these words\u001b[0m\u001b[1;33m\u001b[0m\u001b[1;33m\u001b[0m\u001b[0m\n\u001b[0;32m      3\u001b[0m \u001b[1;32mfrom\u001b[0m \u001b[0mfeelings\u001b[0m \u001b[1;32mimport\u001b[0m \u001b[1;33m*\u001b[0m\u001b[1;33m\u001b[0m\u001b[1;33m\u001b[0m\u001b[0m\n\u001b[0;32m      4\u001b[0m \u001b[1;33m\u001b[0m\u001b[0m\n\u001b[0;32m      5\u001b[0m \u001b[0malways\u001b[0m \u001b[1;33m=\u001b[0m \u001b[1;32mTrue\u001b[0m \u001b[1;31m# are these statements\u001b[0m\u001b[1;33m\u001b[0m\u001b[1;33m\u001b[0m\u001b[0m\n",
      "\u001b[1;31mModuleNotFoundError\u001b[0m: No module named 'world'"
     ]
    }
   ],
   "source": [
    "from world import me, you\n",
    "from my.consciousness import I, your # we need these words\n",
    "from feelings import * \n",
    "\n",
    "always = True # are these statements\n",
    "\n",
    "if you in (depressed, sadness, resignation):\n",
    "    print ('my Sweetheart')\n",
    "if feel(you) is lonely or feel(you) is neglected:\n",
    "    talk_me(this)\n",
    "while always:\n",
    "    I.take_care_of(you)\n",
    "    if you.love() is not me:\n",
    "        # I will follow in the madness\n",
    "        # I will ...\n",
    "        break # down\n",
    "for emotion in my.heart:\n",
    "    try:\n",
    "        your.lover = me\n",
    "    except:\n",
    "        your.best_friend = me\n",
    "if you.hate(me):\n",
    "    love(me)\n",
    "elif I.annoying():\n",
    "    love(me)\n",
    "else:\n",
    "    love(me, how='deeply', when='now') "
   ]
  },
  {
   "cell_type": "code",
   "execution_count": null,
   "id": "df9538c5",
   "metadata": {},
   "outputs": [],
   "source": []
  }
 ],
 "metadata": {
  "kernelspec": {
   "display_name": "Python 3",
   "language": "python",
   "name": "python3"
  },
  "language_info": {
   "codemirror_mode": {
    "name": "ipython",
    "version": 3
   },
   "file_extension": ".py",
   "mimetype": "text/x-python",
   "name": "python",
   "nbconvert_exporter": "python",
   "pygments_lexer": "ipython3",
   "version": "3.8.8"
  }
 },
 "nbformat": 4,
 "nbformat_minor": 5
}
